{
 "cells": [
  {
   "cell_type": "code",
   "execution_count": 2,
   "metadata": {},
   "outputs": [
    {
     "data": {
      "text/plain": [
       "ldarray([ 0,  1,  2,  3,  4,  5,  6,  7,  8,  9, 10, 11])\n",
       "Coordinates: (12,)\n",
       "  time: ['2025-05-02T00:00' '2025-06-02T00:00' ... '2026-03-02T00:00'\n",
       "   '2026-04-02T00:00']"
      ]
     },
     "execution_count": 2,
     "metadata": {},
     "output_type": "execute_result"
    }
   ],
   "source": [
    "import numpy as np\n",
    "from np_struct import ldarray\n",
    "from dateutil import relativedelta as rdt    \n",
    "import datetime as dt\n",
    "\n",
    "start = dt.datetime.today()\n",
    "dates = [start + rdt.relativedelta(months=i) for i in range(12)]\n",
    "\n",
    "data = ldarray(np.arange(0, 12), coords=dict(time=dates))\n",
    "\n",
    "data"
   ]
  },
  {
   "cell_type": "code",
   "execution_count": 3,
   "metadata": {},
   "outputs": [
    {
     "data": {
      "text/plain": [
       "ldarray([6, 7, 8, 9])\n",
       "Coordinates: (4,)\n",
       "  time: ['2025-11-02T00:00' '2025-12-02T00:00' '2026-01-02T00:00'\n",
       "   '2026-02-02T00:00']"
      ]
     },
     "execution_count": 3,
     "metadata": {},
     "output_type": "execute_result"
    }
   ],
   "source": [
    "data.sel(\n",
    "    time=slice(\n",
    "        start + rdt.relativedelta(months=6), \n",
    "        start + rdt.relativedelta(months=9)\n",
    "    )\n",
    ")"
   ]
  }
 ],
 "metadata": {
  "kernelspec": {
   "display_name": ".venv",
   "language": "python",
   "name": "python3"
  },
  "language_info": {
   "codemirror_mode": {
    "name": "ipython",
    "version": 3
   },
   "file_extension": ".py",
   "mimetype": "text/x-python",
   "name": "python",
   "nbconvert_exporter": "python",
   "pygments_lexer": "ipython3",
   "version": "3.12.3"
  },
  "orig_nbformat": 4
 },
 "nbformat": 4,
 "nbformat_minor": 2
}
