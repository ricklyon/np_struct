{
 "cells": [
  {
   "cell_type": "code",
   "execution_count": 1,
   "metadata": {},
   "outputs": [
    {
     "data": {
      "text/plain": [
       "ldarray([ 0,  1,  2,  3,  4,  5,  6,  7,  8,  9, 10, 11])\n",
       "Dimensions: (12,)\n",
       "time: ['2023-08-01T20:54' '2023-09-01T20:54' ... '2024-06-01T20:54'\n",
       " '2024-07-01T20:54']"
      ]
     },
     "execution_count": 1,
     "metadata": {},
     "output_type": "execute_result"
    }
   ],
   "source": [
    "import numpy as np\n",
    "from structures import ldarray\n",
    "from dateutil import relativedelta as rdt    \n",
    "import datetime as dt\n",
    "\n",
    "start = dt.datetime.today()\n",
    "dates = [start + rdt.relativedelta(months=i) for i in range(12)]\n",
    "\n",
    "data = ldarray(np.arange(0, 12), dim=dict(time=dates))\n",
    "\n",
    "data\n"
   ]
  },
  {
   "cell_type": "code",
   "execution_count": 2,
   "metadata": {},
   "outputs": [
    {
     "data": {
      "text/plain": [
       "ldarray([6, 7, 8, 9])\n",
       "Dimensions: (4,)\n",
       "time: ['2024-02-01T20:54' '2024-03-01T20:54' '2024-04-01T20:54'\n",
       " '2024-05-01T20:54']"
      ]
     },
     "execution_count": 2,
     "metadata": {},
     "output_type": "execute_result"
    }
   ],
   "source": [
    "data.sel(\n",
    "    time=slice(\n",
    "        start + rdt.relativedelta(months=6), \n",
    "        start + rdt.relativedelta(months=9)\n",
    "    )\n",
    ")"
   ]
  }
 ],
 "metadata": {
  "kernelspec": {
   "display_name": ".venv",
   "language": "python",
   "name": "python3"
  },
  "language_info": {
   "codemirror_mode": {
    "name": "ipython",
    "version": 3
   },
   "file_extension": ".py",
   "mimetype": "text/x-python",
   "name": "python",
   "nbconvert_exporter": "python",
   "pygments_lexer": "ipython3",
   "version": "3.11.4"
  },
  "orig_nbformat": 4
 },
 "nbformat": 4,
 "nbformat_minor": 2
}
