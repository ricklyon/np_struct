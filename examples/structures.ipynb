{
 "cells": [
  {
   "cell_type": "code",
   "execution_count": 3,
   "metadata": {},
   "outputs": [],
   "source": [
    "from np_struct import Packet, Struct\n",
    "import numpy as np"
   ]
  },
  {
   "attachments": {},
   "cell_type": "markdown",
   "metadata": {},
   "source": [
    "# Numpy Structures"
   ]
  },
  {
   "attachments": {},
   "cell_type": "markdown",
   "metadata": {},
   "source": [
    "`np-structures` extends structured arrays in NumPy to be a bit more user friendly and intuitive, with added support for transferring structured arrays across serial or socket interfaces. \n",
    " \n",
    "Structured arrays are built to mirror the struct typedef in C/C++, but can be used for any complicated data structure. They behave similar to standard arrays, but support mixed data types, labeling, and unequal length arrays. Arrays are easily written or loaded from disk in the standard `.npy` binary format."
   ]
  },
  {
   "attachments": {},
   "cell_type": "markdown",
   "metadata": {},
   "source": [
    "## Creating Structs\n",
    "\n",
    "The format for creating a new `Struct` type is similar to C/C++. Struct members are listed as class variables, and can be other Structs, numpy arrays, or one of the standard numpy types (e.g. np.uint8)."
   ]
  },
  {
   "cell_type": "code",
   "execution_count": 4,
   "metadata": {},
   "outputs": [],
   "source": [
    "class pktheader(Struct):\n",
    "    psize = np.uint16()\n",
    "    dest =  np.uint8()\n",
    "    src =   np.uint8()\n",
    "    ptype = np.uint8()"
   ]
  },
  {
   "attachments": {},
   "cell_type": "markdown",
   "metadata": {},
   "source": [
    "When instancing a new struct object from the declared type, any member can be initialized by passing in it's value with a kwarg. The member will be broadcasted to match the shape of the initial value. "
   ]
  },
  {
   "cell_type": "code",
   "execution_count": 5,
   "metadata": {},
   "outputs": [
    {
     "data": {
      "text/plain": [
       "Struct pktheader: \n",
       "    psize:  uint16[0]\n",
       "    dest:   uint8[0]\n",
       "    src:    uint8[0]\n",
       "    ptype:  uint8[5]"
      ]
     },
     "execution_count": 5,
     "metadata": {},
     "output_type": "execute_result"
    }
   ],
   "source": [
    "pkt = pktheader(ptype=5)\n",
    "pkt"
   ]
  },
  {
   "attachments": {},
   "cell_type": "markdown",
   "metadata": {},
   "source": [
    "An array of structs can be created by passing in the `shape` kwarg. "
   ]
  },
  {
   "cell_type": "code",
   "execution_count": 6,
   "metadata": {},
   "outputs": [
    {
     "data": {
      "text/plain": [
       "Struct pktheader: (3, 2)\n",
       "[\n",
       "    psize:  uint16[0]\n",
       "    dest:   uint8[0]\n",
       "    src:    uint8[0]\n",
       "    ptype:  uint8[5]\n",
       "]\n",
       "...\n",
       "[\n",
       "    psize:  uint16[0]\n",
       "    dest:   uint8[0]\n",
       "    src:    uint8[0]\n",
       "    ptype:  uint8[5]\n",
       "]"
      ]
     },
     "execution_count": 6,
     "metadata": {},
     "output_type": "execute_result"
    }
   ],
   "source": [
    "pkt_array = pktheader(ptype=5, shape=(3,2))\n",
    "pkt_array"
   ]
  },
  {
   "attachments": {},
   "cell_type": "markdown",
   "metadata": {},
   "source": [
    "Initialized members will be broadcasted to the shape of the initial value."
   ]
  },
  {
   "cell_type": "code",
   "execution_count": 7,
   "metadata": {},
   "outputs": [
    {
     "data": {
      "text/plain": [
       "Struct pktheader: \n",
       "    psize:  uint16[0]\n",
       "    dest:   uint8[0]\n",
       "    src:    uint8[0]\n",
       "    ptype:  uint8[0 1 2 3 4]"
      ]
     },
     "execution_count": 7,
     "metadata": {},
     "output_type": "execute_result"
    }
   ],
   "source": [
    "pkt = pktheader(ptype=np.arange(5))\n",
    "pkt"
   ]
  },
  {
   "attachments": {},
   "cell_type": "markdown",
   "metadata": {},
   "source": [
    "Structures can also include other structures."
   ]
  },
  {
   "cell_type": "code",
   "execution_count": 8,
   "metadata": {},
   "outputs": [
    {
     "data": {
      "text/plain": [
       "Struct expkt: \n",
       "    hdr:  Struct pktheader: \n",
       "            psize:  uint16[0]\n",
       "            dest:   uint8[0]\n",
       "            src:    uint8[0]\n",
       "            ptype:  uint8[2]\n",
       "    da:   int32[0 1 2 3 4 5 6 7]"
      ]
     },
     "execution_count": 8,
     "metadata": {},
     "output_type": "execute_result"
    }
   ],
   "source": [
    "class expkt(Struct):\n",
    "    hdr = pktheader(ptype=0x2)\n",
    "    da = np.arange(8)\n",
    "\n",
    "ex = expkt()\n",
    "ex"
   ]
  },
  {
   "attachments": {},
   "cell_type": "markdown",
   "metadata": {},
   "source": [
    "## Accessing and Setting Members\n",
    "\n",
    "Members can be accessed either with indexing, or using the dot operator."
   ]
  },
  {
   "cell_type": "code",
   "execution_count": 9,
   "metadata": {},
   "outputs": [
    {
     "data": {
      "text/plain": [
       "array([ 0,  2,  4,  6,  8, 10, 12, 14])"
      ]
     },
     "execution_count": 9,
     "metadata": {},
     "output_type": "execute_result"
    }
   ],
   "source": [
    "ex.da *= 2\n",
    "ex['da']"
   ]
  },
  {
   "cell_type": "code",
   "execution_count": 10,
   "metadata": {},
   "outputs": [
    {
     "data": {
      "text/plain": [
       "Struct pktheader: (3, 2)\n",
       "[\n",
       "    psize:  uint16[0]\n",
       "    dest:   uint8[0]\n",
       "    src:    uint8[0]\n",
       "    ptype:  uint8[15]\n",
       "]\n",
       "...\n",
       "[\n",
       "    psize:  uint16[0]\n",
       "    dest:   uint8[0]\n",
       "    src:    uint8[0]\n",
       "    ptype:  uint8[5]\n",
       "]"
      ]
     },
     "execution_count": 10,
     "metadata": {},
     "output_type": "execute_result"
    }
   ],
   "source": [
    "pkt_array[0,0].ptype = 15\n",
    "pkt_array"
   ]
  },
  {
   "attachments": {},
   "cell_type": "markdown",
   "metadata": {},
   "source": [
    "## Writing to Disk"
   ]
  },
  {
   "cell_type": "code",
   "execution_count": 11,
   "metadata": {},
   "outputs": [
    {
     "data": {
      "text/plain": [
       "Struct pktheader: (3, 2)\n",
       "[\n",
       "    psize:  uint16[0]\n",
       "    dest:   uint8[0]\n",
       "    src:    uint8[0]\n",
       "    ptype:  uint8[15]\n",
       "]\n",
       "...\n",
       "[\n",
       "    psize:  uint16[0]\n",
       "    dest:   uint8[0]\n",
       "    src:    uint8[0]\n",
       "    ptype:  uint8[5]\n",
       "]"
      ]
     },
     "execution_count": 11,
     "metadata": {},
     "output_type": "execute_result"
    }
   ],
   "source": [
    "np.save('test.npy', pkt_array)\n",
    "pktheader(np.load('test.npy'))"
   ]
  },
  {
   "attachments": {},
   "cell_type": "markdown",
   "metadata": {},
   "source": [
    "## Interfaces\n",
    "\n",
    "To send structured arrays across a serial or socket interface, the structure must include a member that holds the structure size in bytes, and another that holds a type field that is unique for each structure class that will be sent across the interface. \n",
    "\n",
    "To register the structure with the interface, the structure must inherit from a base class that includes the size and type fields, and implements four methods shown below."
   ]
  },
  {
   "cell_type": "code",
   "execution_count": 13,
   "metadata": {},
   "outputs": [],
   "source": [
    "from np_struct.fields import uint16\n",
    "\n",
    "class BasePacket(Packet):\n",
    "    hdr = pktheader()\n",
    "\n",
    "    def set_size(self, value):\n",
    "        self.hdr.psize = value\n",
    "\n",
    "    def set_type(self, value):\n",
    "        self.hdr.ptype = value\n",
    "\n",
    "    def build_header(self, **kwargs):\n",
    "        pass\n",
    "\n",
    "    def parse_header(self, **kwargs):\n",
    "        return dict(\n",
    "            size = self.hdr.psize,\n",
    "            type =  self.hdr.ptype,\n",
    "        )\n",
    "\n",
    "class command(Struct):\n",
    "    state1 = uint16(bits=7)\n",
    "    state2 = uint16(bits=3)\n",
    "    state3 = uint16(bits=1)\n",
    "\n",
    "class expkt(BasePacket):\n",
    "    hdr = pktheader(ptype=0x2)\n",
    "    cmd = command()\n",
    "    da = np.arange(7)\n",
    "\n",
    "class ack(BasePacket):\n",
    "    hdr = pktheader(ptype=0xFF)\n",
    "    ack_type = np.uint8()\n",
    "    ack_code = np.uint8()"
   ]
  },
  {
   "attachments": {},
   "cell_type": "markdown",
   "metadata": {},
   "source": [
    "The `expkt` and `ack` structures will be recognized by an interface since they inherit from `BasePacket`, while `command` will not be recognized. However, `command` can be included inside other registered classes.\n",
    "\n",
    "To implement an interface that recognizes these structures, pass the `BasePacket` class into the `pkt_class` kwarg."
   ]
  },
  {
   "cell_type": "code",
   "execution_count": 14,
   "metadata": {},
   "outputs": [
    {
     "name": "stdout",
     "output_type": "stream",
     "text": [
      "BasePacket expkt: \n",
      "    hdr:  Struct pktheader: \n",
      "            psize:  uint16[35]\n",
      "            dest:   uint8[0]\n",
      "            src:    uint8[0]\n",
      "            ptype:  uint8[2]\n",
      "    cmd:  Struct command: \n",
      "            state1:       uint16(7:0)[0]\n",
      "            state2:       uint16(10:7)[0]\n",
      "            state3:       uint16(11:10)[0]\n",
      "    da:   int32[0 1 2 3 4 5 6]\n",
      "\n",
      "BasePacket expkt: \n",
      "    hdr:  Struct pktheader: \n",
      "            psize:  uint16[35]\n",
      "            dest:   uint8[0]\n",
      "            src:    uint8[15]\n",
      "            ptype:  uint8[2]\n",
      "    cmd:  Struct command: \n",
      "            state1:       uint16(7:0)[0]\n",
      "            state2:       uint16(10:7)[3]\n",
      "            state3:       uint16(11:10)[0]\n",
      "    da:   int32[ 0  2  4  6  8 10 12]\n"
     ]
    }
   ],
   "source": [
    "from np_struct.transfer import SocketInterface\n",
    "import threading\n",
    "\n",
    "server = SocketInterface(host=('localhost', 50007), pkt_class=BasePacket)\n",
    "\n",
    "client = SocketInterface(target=('localhost', 50007), pkt_class=BasePacket)\n",
    "\n",
    "def start_server():\n",
    "    with server as intf:\n",
    "        pkt = server.pkt_read()\n",
    "        pkt.hdr.src = 0xF\n",
    "        pkt.da *= 2\n",
    "        pkt.cmd.state2 = 0x3\n",
    "        intf.pkt_write(pkt)\n",
    "\n",
    "threading.Thread(target=start_server).start()\n",
    "\n",
    "with client as intf:\n",
    "\n",
    "    ex = expkt()\n",
    "    print(ex)\n",
    "    print()\n",
    "    rxpkt = intf.pkt_sendrecv(ex)\n",
    "\n",
    "    print(rxpkt)"
   ]
  }
 ],
 "metadata": {
  "kernelspec": {
   "display_name": ".venv",
   "language": "python",
   "name": "python3"
  },
  "language_info": {
   "codemirror_mode": {
    "name": "ipython",
    "version": 3
   },
   "file_extension": ".py",
   "mimetype": "text/x-python",
   "name": "python",
   "nbconvert_exporter": "python",
   "pygments_lexer": "ipython3",
   "version": "3.11.4"
  },
  "orig_nbformat": 4
 },
 "nbformat": 4,
 "nbformat_minor": 2
}
