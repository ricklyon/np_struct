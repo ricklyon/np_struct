{
 "cells": [
  {
   "cell_type": "code",
   "execution_count": 1,
   "metadata": {},
   "outputs": [],
   "source": [
    "from np_struct import Packet, Struct\n",
    "from np_struct.transfer import SocketInterface, PacketServer\n",
    "import numpy as np"
   ]
  },
  {
   "attachments": {},
   "cell_type": "markdown",
   "metadata": {},
   "source": [
    "## Structured Arrays\n",
    "\n",
    "Struct members are class variables, and can be other `Struct` objects, numpy arrays, or one of the standard numpy data types.\n",
    "When creating a new struct, any member can be initialized by passing in an initial value."
   ]
  },
  {
   "cell_type": "code",
   "execution_count": 2,
   "metadata": {},
   "outputs": [
    {
     "data": {
      "text/plain": [
       "Struct pktheader: \n",
       "    psize:          uint16[0]\n",
       "    ptype:          uint8[5]\n",
       "    payload_shape:  uint8[1 1]"
      ]
     },
     "execution_count": 2,
     "metadata": {},
     "output_type": "execute_result"
    }
   ],
   "source": [
    "class pktheader(Struct):\n",
    "    psize = np.uint16()\n",
    "    ptype = np.uint8()\n",
    "    payload_shape = np.uint8([1, 1])\n",
    "\n",
    "pkt = pktheader(ptype=5)\n",
    "pkt"
   ]
  },
  {
   "cell_type": "markdown",
   "metadata": {},
   "source": [
    "`Struct` members will be broadcasted to the shape of the initial value."
   ]
  },
  {
   "cell_type": "code",
   "execution_count": 3,
   "metadata": {},
   "outputs": [
    {
     "data": {
      "text/plain": [
       "Struct pktheader: \n",
       "    psize:          uint16[0]\n",
       "    ptype:          uint8[0 1 2 3 4]\n",
       "    payload_shape:  uint8[1 1]"
      ]
     },
     "execution_count": 3,
     "metadata": {},
     "output_type": "execute_result"
    }
   ],
   "source": [
    "pkt = pktheader(ptype=np.arange(5))\n",
    "pkt"
   ]
  },
  {
   "attachments": {},
   "cell_type": "markdown",
   "metadata": {},
   "source": [
    "An array of structs can be created by passing in a `shape`."
   ]
  },
  {
   "cell_type": "code",
   "execution_count": 4,
   "metadata": {},
   "outputs": [
    {
     "data": {
      "text/plain": [
       "Struct pktheader: (3, 2)\n",
       "[\n",
       "    psize:          uint16[0]\n",
       "    ptype:          uint8[5]\n",
       "    payload_shape:  uint8[1 1]\n",
       "]\n",
       "...\n",
       "[\n",
       "    psize:          uint16[0]\n",
       "    ptype:          uint8[5]\n",
       "    payload_shape:  uint8[1 1]\n",
       "]"
      ]
     },
     "execution_count": 4,
     "metadata": {},
     "output_type": "execute_result"
    }
   ],
   "source": [
    "pkt_array = pktheader(ptype=5, shape=(3,2))\n",
    "pkt_array"
   ]
  },
  {
   "attachments": {},
   "cell_type": "markdown",
   "metadata": {},
   "source": [
    "Structures can also include other structures."
   ]
  },
  {
   "cell_type": "code",
   "execution_count": 5,
   "metadata": {},
   "outputs": [
    {
     "data": {
      "text/plain": [
       "Struct expkt: \n",
       "    hdr:  Struct pktheader: \n",
       "              psize:          uint16[0]\n",
       "              ptype:          uint8[2]\n",
       "              payload_shape:  uint8[1 1]\n",
       "    da:   int64[0 1 2 3 4 5 6 7]"
      ]
     },
     "execution_count": 5,
     "metadata": {},
     "output_type": "execute_result"
    }
   ],
   "source": [
    "class expkt(Struct):\n",
    "    hdr = pktheader(ptype=0x2)\n",
    "    da = np.arange(8)\n",
    "\n",
    "ex = expkt()\n",
    "ex"
   ]
  },
  {
   "attachments": {},
   "cell_type": "markdown",
   "metadata": {},
   "source": [
    "## Accessing and Setting Members\n",
    "\n",
    "Members can be accessed either with indexing, or using the dot operator."
   ]
  },
  {
   "cell_type": "code",
   "execution_count": 6,
   "metadata": {},
   "outputs": [
    {
     "data": {
      "text/plain": [
       "array([ 0,  2,  4,  6,  8, 10, 12, 14])"
      ]
     },
     "execution_count": 6,
     "metadata": {},
     "output_type": "execute_result"
    }
   ],
   "source": [
    "ex.da *= 2\n",
    "ex['da']"
   ]
  },
  {
   "cell_type": "code",
   "execution_count": 7,
   "metadata": {},
   "outputs": [
    {
     "data": {
      "text/plain": [
       "Struct pktheader: (3, 2)\n",
       "[\n",
       "    psize:          uint16[0]\n",
       "    ptype:          uint8[15]\n",
       "    payload_shape:  uint8[1 1]\n",
       "]\n",
       "...\n",
       "[\n",
       "    psize:          uint16[0]\n",
       "    ptype:          uint8[5]\n",
       "    payload_shape:  uint8[1 1]\n",
       "]"
      ]
     },
     "execution_count": 7,
     "metadata": {},
     "output_type": "execute_result"
    }
   ],
   "source": [
    "pkt_array[0,0].ptype = 15\n",
    "pkt_array"
   ]
  },
  {
   "attachments": {},
   "cell_type": "markdown",
   "metadata": {},
   "source": [
    "## Writing to Disk"
   ]
  },
  {
   "cell_type": "code",
   "execution_count": 8,
   "metadata": {},
   "outputs": [
    {
     "data": {
      "text/plain": [
       "Struct pktheader: (3, 2)\n",
       "[\n",
       "    psize:          uint16[0]\n",
       "    ptype:          uint8[15]\n",
       "    payload_shape:  uint8[1 1]\n",
       "]\n",
       "...\n",
       "[\n",
       "    psize:          uint16[0]\n",
       "    ptype:          uint8[5]\n",
       "    payload_shape:  uint8[1 1]\n",
       "]"
      ]
     },
     "execution_count": 8,
     "metadata": {},
     "output_type": "execute_result"
    }
   ],
   "source": [
    "np.save('test.npy', pkt_array)\n",
    "pktheader(np.load('test.npy'))"
   ]
  },
  {
   "attachments": {},
   "cell_type": "markdown",
   "metadata": {},
   "source": [
    "## Interfaces\n",
    "\n",
    "To send structured arrays across a serial or socket interface, the structure must inherit from `Packet` and include a header that contains a type field that is unique for each packet sub-class that will be sent across the interface. \n",
    "\n",
    "The header must implement the `get_ptype` method that returns the unique identifier field."
   ]
  },
  {
   "cell_type": "code",
   "execution_count": 9,
   "metadata": {},
   "outputs": [],
   "source": [
    "from np_struct.bitfields import uint16\n",
    "\n",
    "class pktheader(Packet):\n",
    "    psize = np.uint16()\n",
    "    ptype = np.uint8()\n",
    "    payload_shape = np.uint8([1, 1])\n",
    "    \n",
    "    def get_ptype(self):\n",
    "        return self.ptype\n",
    "    \n",
    "class datapkt(Packet):\n",
    "    hdr = pktheader(ptype=0x2)\n",
    "    da = np.uint16()\n",
    "\n",
    "class cmdpkt(Packet):\n",
    "    hdr = pktheader(ptype=0x03)\n",
    "    state1 = uint16(bits=7)\n",
    "    state2 = uint16(bits=3)\n",
    "    state3 = uint16(bits=1)\n",
    "\n",
    "class ack(Packet):\n",
    "    hdr = pktheader(ptype=0xFF)\n",
    "    ack_type = np.uint8()\n",
    "    ack_code = np.uint8()\n",
    "\n",
    "class variablepkt(Packet):\n",
    "    hdr = pktheader(ptype=0x0A)\n",
    "    da = np.uint16()\n",
    "\n",
    "    @classmethod\n",
    "    def from_header(cls, hdr: pktheader, **kwargs):\n",
    "        return cls(da=np.zeros(hdr.payload_shape), **kwargs)"
   ]
  },
  {
   "attachments": {},
   "cell_type": "markdown",
   "metadata": {},
   "source": [
    "To implement an interface that can parse these packets, pass in the header class to the interface constructor,"
   ]
  },
  {
   "cell_type": "code",
   "execution_count": 10,
   "metadata": {},
   "outputs": [],
   "source": [
    "client_intf = SocketInterface(target=('localhost', 50010), header=pktheader)"
   ]
  },
  {
   "cell_type": "markdown",
   "metadata": {},
   "source": [
    "Create a simple server that manipulates the packets sent by the client,"
   ]
  },
  {
   "cell_type": "code",
   "execution_count": 11,
   "metadata": {},
   "outputs": [],
   "source": [
    "def pkt_handler(pkt: Packet) -> Packet:\n",
    "    \"\"\"\n",
    "    Server-side packet handler. Given a packet from the client, create a new packet to send back.\n",
    "    \"\"\"\n",
    "    # modify packet data\n",
    "    if isinstance(pkt, datapkt):\n",
    "        pkt.da *= 2\n",
    "        return pkt\n",
    "    # send acknowledgement packet with error code\n",
    "    elif isinstance(pkt, cmdpkt):\n",
    "        txpkt = ack(ack_code=pkt.state2)\n",
    "        txpkt.ack_type = pkt.hdr.ptype\n",
    "        return txpkt\n",
    "    # change the size of the returned packet\n",
    "    elif isinstance(pkt, variablepkt):\n",
    "        txpkt = variablepkt(da=np.arange(16))\n",
    "        txpkt.hdr.payload_shape = [1, 16]\n",
    "        return txpkt\n",
    "    # loopback to client\n",
    "    else:\n",
    "        raise ValueError(f\"Unsupported packet type: {pkt.__class__.__name__}\")\n",
    "\n",
    "server = PacketServer(\n",
    "    host=('localhost', 50010), header=pktheader, pkt_handler=pkt_handler, timeout=0.02\n",
    ")\n",
    "\n",
    "# start server\n",
    "server.start()"
   ]
  },
  {
   "cell_type": "markdown",
   "metadata": {},
   "source": [
    "Test out the server with a a few different packet types,"
   ]
  },
  {
   "cell_type": "code",
   "execution_count": 12,
   "metadata": {},
   "outputs": [
    {
     "data": {
      "text/plain": [
       "array([6], dtype=uint16)"
      ]
     },
     "execution_count": 12,
     "metadata": {},
     "output_type": "execute_result"
    }
   ],
   "source": [
    "# returned data from the server should be populated with random integers\n",
    "ex = datapkt(da = 3)\n",
    "\n",
    "with client_intf as client:\n",
    "    rxpkt = client.pkt_sendrecv(ex)\n",
    "\n",
    "rxpkt.da\n"
   ]
  },
  {
   "cell_type": "code",
   "execution_count": 13,
   "metadata": {},
   "outputs": [
    {
     "name": "stdout",
     "output_type": "stream",
     "text": [
      "Packet cmdpkt: \n",
      "    hdr:          Packet pktheader: \n",
      "                      psize:          uint16[0]\n",
      "                      ptype:          uint8[3]\n",
      "                      payload_shape:  uint8[1 1]\n",
      "    state1:       uint16(7:0)[0]\n",
      "    state2:       uint16(10:7)[4]\n",
      "    state3:       uint16(11:10)[0]\n"
     ]
    },
    {
     "data": {
      "text/plain": [
       "Packet ack: \n",
       "    hdr:       Packet pktheader: \n",
       "                   psize:          uint16[0]\n",
       "                   ptype:          uint8[255]\n",
       "                   payload_shape:  uint8[1 1]\n",
       "    ack_type:  uint8[3]\n",
       "    ack_code:  uint8[4]"
      ]
     },
     "execution_count": 13,
     "metadata": {},
     "output_type": "execute_result"
    }
   ],
   "source": [
    "# the ack_type member in the returned data should be populated with the ptype field of the sent packet\n",
    "cmd = cmdpkt()\n",
    "cmd.state2 = 0x4\n",
    "with client_intf as client:\n",
    "    rxpkt = client.pkt_sendrecv(cmd)\n",
    "\n",
    "print(cmd)\n",
    "rxpkt"
   ]
  },
  {
   "attachments": {},
   "cell_type": "markdown",
   "metadata": {},
   "source": [
    "## Variable Length Packets\n",
    "\n",
    "Struct members can be initialized with any shape, and the same is true of packets. When the interface is receiving and parsing a packet, it will call the `from_header` method if it is defined in the `Packet` class. The received bytes will be unpacked into the empty packet returned by `from_header`. This allows the packet members to be defined with variable shapes.\n",
    "\n",
    "The `variablepkt` class implemented `from_header` and returns a new packet with the `da` field initialized to the shape\n",
    "in the `payload_shape` header field. This tells the packet reader what size to expect for the full packet by only reading the header."
   ]
  },
  {
   "cell_type": "code",
   "execution_count": 14,
   "metadata": {},
   "outputs": [
    {
     "name": "stdout",
     "output_type": "stream",
     "text": [
      "Packet variablepkt: \n",
      "    hdr:  Packet pktheader: \n",
      "              psize:          uint16[0]\n",
      "              ptype:          uint8[10]\n",
      "              payload_shape:  uint8[2 3]\n",
      "    da:   uint16[[0 1 2]\n",
      "\t        [3 4 5]]\n"
     ]
    },
    {
     "data": {
      "text/plain": [
       "Packet variablepkt: \n",
       "    hdr:  Packet pktheader: \n",
       "              psize:          uint16[0]\n",
       "              ptype:          uint8[10]\n",
       "              payload_shape:  uint8[ 1 16]\n",
       "    da:   uint16[[ 0  1  2  3  4  5  6  7  8  9 10 11 12 13 14 15]]"
      ]
     },
     "execution_count": 14,
     "metadata": {},
     "output_type": "execute_result"
    }
   ],
   "source": [
    "with client_intf as client:\n",
    "    data = np.arange(6).reshape(2, 3)\n",
    "    v = variablepkt(da=data)\n",
    "    v.hdr.payload_shape = data.shape\n",
    "    rxpkt = client.pkt_sendrecv(v)\n",
    "\n",
    "print(v)\n",
    "rxpkt"
   ]
  },
  {
   "cell_type": "code",
   "execution_count": 15,
   "metadata": {},
   "outputs": [],
   "source": [
    "server.stop()"
   ]
  }
 ],
 "metadata": {
  "kernelspec": {
   "display_name": ".venv",
   "language": "python",
   "name": "python3"
  },
  "language_info": {
   "codemirror_mode": {
    "name": "ipython",
    "version": 3
   },
   "file_extension": ".py",
   "mimetype": "text/x-python",
   "name": "python",
   "nbconvert_exporter": "python",
   "pygments_lexer": "ipython3",
   "version": "3.12.3"
  },
  "orig_nbformat": 4
 },
 "nbformat": 4,
 "nbformat_minor": 2
}
