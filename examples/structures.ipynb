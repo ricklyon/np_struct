{
 "cells": [
  {
   "cell_type": "code",
   "execution_count": 1,
   "metadata": {},
   "outputs": [],
   "source": [
    "from np_struct import Packet, Struct\n",
    "import numpy as np"
   ]
  },
  {
   "attachments": {},
   "cell_type": "markdown",
   "metadata": {},
   "source": [
    "# Numpy Structures"
   ]
  },
  {
   "attachments": {},
   "cell_type": "markdown",
   "metadata": {},
   "source": [
    "`np-structures` extends structured arrays in NumPy to be a bit more user friendly and intuitive, with added support for transferring structured arrays across serial or socket interfaces. \n",
    " \n",
    "Structured arrays are built to mirror the struct typedef in C/C++, but can be used for any complicated data structure. They behave similar to standard arrays, but support mixed data types, labeling, and unequal length arrays. Arrays are easily written or loaded from disk in the standard `.npy` binary format."
   ]
  },
  {
   "attachments": {},
   "cell_type": "markdown",
   "metadata": {},
   "source": [
    "## Creating Structs\n",
    "\n",
    "Struct members are listed as class variables, and can be other Structs, numpy arrays, or one of the standard numpy data types."
   ]
  },
  {
   "cell_type": "code",
   "execution_count": 2,
   "metadata": {},
   "outputs": [],
   "source": [
    "class pktheader(Struct):\n",
    "    psize = np.uint16()\n",
    "    dest =  np.uint8()\n",
    "    src =   np.uint8()\n",
    "    ptype = np.uint8()"
   ]
  },
  {
   "attachments": {},
   "cell_type": "markdown",
   "metadata": {},
   "source": [
    "When creating a new struct object from a declared type, any member can be initialized by passing in it's value with a kwarg."
   ]
  },
  {
   "cell_type": "code",
   "execution_count": 3,
   "metadata": {},
   "outputs": [
    {
     "data": {
      "text/plain": [
       "Struct pktheader: \n",
       "    psize:  uint16[0]\n",
       "    dest:   uint8[0]\n",
       "    src:    uint8[0]\n",
       "    ptype:  uint8[5]"
      ]
     },
     "execution_count": 3,
     "metadata": {},
     "output_type": "execute_result"
    }
   ],
   "source": [
    "pkt = pktheader(ptype=5)\n",
    "pkt"
   ]
  },
  {
   "attachments": {},
   "cell_type": "markdown",
   "metadata": {},
   "source": [
    "An array of structs can be created by passing in the `shape` kwarg. "
   ]
  },
  {
   "cell_type": "code",
   "execution_count": 4,
   "metadata": {},
   "outputs": [
    {
     "data": {
      "text/plain": [
       "Struct pktheader: (3, 2)\n",
       "[\n",
       "    psize:  uint16[0]\n",
       "    dest:   uint8[0]\n",
       "    src:    uint8[0]\n",
       "    ptype:  uint8[5]\n",
       "]\n",
       "...\n",
       "[\n",
       "    psize:  uint16[0]\n",
       "    dest:   uint8[0]\n",
       "    src:    uint8[0]\n",
       "    ptype:  uint8[5]\n",
       "]"
      ]
     },
     "execution_count": 4,
     "metadata": {},
     "output_type": "execute_result"
    }
   ],
   "source": [
    "pkt_array = pktheader(ptype=5, shape=(3,2))\n",
    "pkt_array"
   ]
  },
  {
   "attachments": {},
   "cell_type": "markdown",
   "metadata": {},
   "source": [
    "Initialized members will be broadcasted to the shape of the initial value."
   ]
  },
  {
   "cell_type": "code",
   "execution_count": 5,
   "metadata": {},
   "outputs": [
    {
     "data": {
      "text/plain": [
       "Struct pktheader: \n",
       "    psize:  uint16[0]\n",
       "    dest:   uint8[0]\n",
       "    src:    uint8[0]\n",
       "    ptype:  uint8[0 1 2 3 4]"
      ]
     },
     "execution_count": 5,
     "metadata": {},
     "output_type": "execute_result"
    }
   ],
   "source": [
    "pkt = pktheader(ptype=np.arange(5))\n",
    "pkt"
   ]
  },
  {
   "attachments": {},
   "cell_type": "markdown",
   "metadata": {},
   "source": [
    "Structures can also include other structures."
   ]
  },
  {
   "cell_type": "code",
   "execution_count": 6,
   "metadata": {},
   "outputs": [
    {
     "data": {
      "text/plain": [
       "Struct expkt: \n",
       "    hdr:  Struct pktheader: \n",
       "            psize:  uint16[0]\n",
       "            dest:   uint8[0]\n",
       "            src:    uint8[0]\n",
       "            ptype:  uint8[2]\n",
       "    da:   int32[0 1 2 3 4 5 6 7]"
      ]
     },
     "execution_count": 6,
     "metadata": {},
     "output_type": "execute_result"
    }
   ],
   "source": [
    "class expkt(Struct):\n",
    "    hdr = pktheader(ptype=0x2)\n",
    "    da = np.arange(8)\n",
    "\n",
    "ex = expkt()\n",
    "ex"
   ]
  },
  {
   "attachments": {},
   "cell_type": "markdown",
   "metadata": {},
   "source": [
    "## Accessing and Setting Members\n",
    "\n",
    "Members can be accessed either with indexing, or using the dot operator."
   ]
  },
  {
   "cell_type": "code",
   "execution_count": 7,
   "metadata": {},
   "outputs": [
    {
     "data": {
      "text/plain": [
       "array([ 0,  2,  4,  6,  8, 10, 12, 14])"
      ]
     },
     "execution_count": 7,
     "metadata": {},
     "output_type": "execute_result"
    }
   ],
   "source": [
    "ex.da *= 2\n",
    "ex['da']"
   ]
  },
  {
   "cell_type": "code",
   "execution_count": 8,
   "metadata": {},
   "outputs": [
    {
     "data": {
      "text/plain": [
       "Struct pktheader: (3, 2)\n",
       "[\n",
       "    psize:  uint16[0]\n",
       "    dest:   uint8[0]\n",
       "    src:    uint8[0]\n",
       "    ptype:  uint8[15]\n",
       "]\n",
       "...\n",
       "[\n",
       "    psize:  uint16[0]\n",
       "    dest:   uint8[0]\n",
       "    src:    uint8[0]\n",
       "    ptype:  uint8[5]\n",
       "]"
      ]
     },
     "execution_count": 8,
     "metadata": {},
     "output_type": "execute_result"
    }
   ],
   "source": [
    "pkt_array[0,0].ptype = 15\n",
    "pkt_array"
   ]
  },
  {
   "attachments": {},
   "cell_type": "markdown",
   "metadata": {},
   "source": [
    "## Writing to Disk"
   ]
  },
  {
   "cell_type": "code",
   "execution_count": 9,
   "metadata": {},
   "outputs": [
    {
     "data": {
      "text/plain": [
       "Struct pktheader: (3, 2)\n",
       "[\n",
       "    psize:  uint16[0]\n",
       "    dest:   uint8[0]\n",
       "    src:    uint8[0]\n",
       "    ptype:  uint8[15]\n",
       "]\n",
       "...\n",
       "[\n",
       "    psize:  uint16[0]\n",
       "    dest:   uint8[0]\n",
       "    src:    uint8[0]\n",
       "    ptype:  uint8[5]\n",
       "]"
      ]
     },
     "execution_count": 9,
     "metadata": {},
     "output_type": "execute_result"
    }
   ],
   "source": [
    "np.save('test.npy', pkt_array)\n",
    "pktheader(np.load('test.npy'))"
   ]
  },
  {
   "attachments": {},
   "cell_type": "markdown",
   "metadata": {},
   "source": [
    "## Interfaces\n",
    "\n",
    "To send structured arrays across a serial or socket interface, the structure must include a member that holds the structure size in bytes, and another that holds a type field that is unique for each structure class that will be sent across the interface. \n",
    "\n",
    "To register the structure with the interface, the structure must inherit from a base class that includes the size and type fields, and implements four methods shown below."
   ]
  },
  {
   "cell_type": "code",
   "execution_count": 10,
   "metadata": {},
   "outputs": [],
   "source": [
    "from np_struct.fields import uint16\n",
    "\n",
    "class BasePacket(Packet):\n",
    "    hdr = pktheader()\n",
    "\n",
    "    def set_psize(self, value):\n",
    "        self.hdr.psize = value\n",
    "\n",
    "    def set_ptype(self, value):\n",
    "        self.hdr.ptype = value\n",
    "    \n",
    "    def get_ptype(self):\n",
    "        return self.hdr.ptype\n",
    "    \n",
    "    def get_psize(self):\n",
    "        return self.hdr.psize\n",
    "\n",
    "class datapkt(BasePacket):\n",
    "    hdr = pktheader(ptype=0x2)\n",
    "    da = np.zeros(10)\n",
    "\n",
    "class testpkt(BasePacket):\n",
    "    hdr = pktheader(ptype=0x03)\n",
    "\n",
    "class ack(BasePacket):\n",
    "    hdr = pktheader(ptype=0xFF)\n",
    "    ack_type = np.uint8()\n",
    "    ack_code = np.uint8()"
   ]
  },
  {
   "attachments": {},
   "cell_type": "markdown",
   "metadata": {},
   "source": [
    "The `datapkt` and `testpkt` structures will be recognized by an interface since they inherit from `BasePacket`.\n",
    "\n",
    "To implement an interface that recognizes these structures, pass the `BasePacket` class into the `pkt_class` kwarg."
   ]
  },
  {
   "cell_type": "code",
   "execution_count": 11,
   "metadata": {},
   "outputs": [],
   "source": [
    "from np_struct.transfer import SocketInterface\n",
    "import threading\n",
    "\n",
    "class SimpleServer(threading.Thread):\n",
    "\n",
    "    def __init__(self, intf):\n",
    "        super().__init__()\n",
    "        self.terminate_flag = threading.Event()\n",
    "        self.intf = intf\n",
    "\n",
    "    def stop(self):\n",
    "        self.terminate_flag.set()\n",
    "\n",
    "    def run(self):\n",
    "\n",
    "        while not self.terminate_flag.is_set():\n",
    "            # accept connections from clients until the terminate flag is set\n",
    "            try:\n",
    "                self.intf.connect()\n",
    "            except TimeoutError:\n",
    "                self.intf.close()\n",
    "                continue\n",
    "            \n",
    "            # if connection made, read packet from socket. Packet may be any type that inherits from BasePacket\n",
    "            pkt = self.intf.pkt_read()\n",
    "\n",
    "            # fill data field with random integers and send back to client\n",
    "            if isinstance(pkt, datapkt):\n",
    "                pkt.da = np.random.randint(0, 0xFF, size=pkt.da.shape)\n",
    "                self.intf.pkt_write(pkt)\n",
    "            # send acknowledgment back to client\n",
    "            else:\n",
    "                ackpkt = ack()\n",
    "                ackpkt.ack_type = pkt.hdr.ptype\n",
    "                self.intf.pkt_write(ackpkt)\n",
    "            \n",
    "            self.intf.close()\n",
    "\n",
    "# create server interface by providing a host port to bind to\n",
    "server_intf = SocketInterface(host=('localhost', 50007), pkt_class=BasePacket, timeout=2)\n",
    "# create client by providing a target port to connect to\n",
    "client_intf = SocketInterface(target=('localhost', 50007), pkt_class=BasePacket)\n",
    "\n",
    "# start server thread\n",
    "server = SimpleServer(server_intf)\n",
    "server.start()"
   ]
  },
  {
   "cell_type": "code",
   "execution_count": 12,
   "metadata": {},
   "outputs": [
    {
     "name": "stdout",
     "output_type": "stream",
     "text": [
      "BasePacket datapkt: \n",
      "    hdr:  Struct pktheader: \n",
      "            psize:  uint16[85]\n",
      "            dest:   uint8[0]\n",
      "            src:    uint8[0]\n",
      "            ptype:  uint8[2]\n",
      "    da:   float64[250. 179.  15. 183.  90. 132. 221. 186. 239. 250.]\n"
     ]
    }
   ],
   "source": [
    "with client_intf as client:\n",
    "    ex = datapkt()\n",
    "    rxpkt = client.pkt_sendrecv(ex)\n",
    "\n",
    "    print(rxpkt)\n"
   ]
  },
  {
   "cell_type": "code",
   "execution_count": 13,
   "metadata": {},
   "outputs": [
    {
     "name": "stdout",
     "output_type": "stream",
     "text": [
      "BasePacket ack: \n",
      "    hdr:       Struct pktheader: \n",
      "            psize:  uint16[7]\n",
      "            dest:   uint8[0]\n",
      "            src:    uint8[0]\n",
      "            ptype:  uint8[255]\n",
      "    ack_type:  uint8[3]\n",
      "    ack_code:  uint8[0]\n"
     ]
    }
   ],
   "source": [
    "with client_intf as client:\n",
    "\n",
    "    ex = testpkt()\n",
    "    rxpkt = client.pkt_sendrecv(ex)\n",
    "\n",
    "    print(rxpkt)\n"
   ]
  },
  {
   "cell_type": "code",
   "execution_count": 14,
   "metadata": {},
   "outputs": [],
   "source": [
    "server.stop()"
   ]
  }
 ],
 "metadata": {
  "kernelspec": {
   "display_name": ".venv",
   "language": "python",
   "name": "python3"
  },
  "language_info": {
   "codemirror_mode": {
    "name": "ipython",
    "version": 3
   },
   "file_extension": ".py",
   "mimetype": "text/x-python",
   "name": "python",
   "nbconvert_exporter": "python",
   "pygments_lexer": "ipython3",
   "version": "3.11.4"
  },
  "orig_nbformat": 4
 },
 "nbformat": 4,
 "nbformat_minor": 2
}
